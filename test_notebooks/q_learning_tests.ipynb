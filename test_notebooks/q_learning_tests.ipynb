{
 "cells": [
  {
   "cell_type": "code",
   "id": "initial_id",
   "metadata": {
    "collapsed": true,
    "ExecuteTime": {
     "end_time": "2024-07-13T18:10:40.949791Z",
     "start_time": "2024-07-13T18:10:40.886177Z"
    }
   },
   "source": "from platoon_functionalities import q_learning",
   "outputs": [],
   "execution_count": 1
  },
  {
   "metadata": {
    "ExecuteTime": {
     "end_time": "2024-07-13T18:10:41.404494Z",
     "start_time": "2024-07-13T18:10:41.395552Z"
    }
   },
   "cell_type": "code",
   "source": "q_learning_agent = q_learning.QLearningAgent()",
   "id": "a566dfd92270b3c1",
   "outputs": [],
   "execution_count": 2
  },
  {
   "metadata": {
    "ExecuteTime": {
     "end_time": "2024-07-13T18:10:42.023705Z",
     "start_time": "2024-07-13T18:10:42.018473Z"
    }
   },
   "cell_type": "code",
   "source": "q_learning_agent._alpha",
   "id": "c7a1babc48e60ceb",
   "outputs": [
    {
     "data": {
      "text/plain": [
       "0.1"
      ]
     },
     "execution_count": 3,
     "metadata": {},
     "output_type": "execute_result"
    }
   ],
   "execution_count": 3
  },
  {
   "metadata": {},
   "cell_type": "code",
   "outputs": [],
   "execution_count": null,
   "source": "",
   "id": "a01fb93cf63138df"
  }
 ],
 "metadata": {
  "kernelspec": {
   "display_name": "Python 3",
   "language": "python",
   "name": "python3"
  },
  "language_info": {
   "codemirror_mode": {
    "name": "ipython",
    "version": 2
   },
   "file_extension": ".py",
   "mimetype": "text/x-python",
   "name": "python",
   "nbconvert_exporter": "python",
   "pygments_lexer": "ipython2",
   "version": "2.7.6"
  }
 },
 "nbformat": 4,
 "nbformat_minor": 5
}
