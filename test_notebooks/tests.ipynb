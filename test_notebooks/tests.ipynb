{
 "cells": [
  {
   "cell_type": "code",
   "metadata": {
    "collapsed": true,
    "ExecuteTime": {
     "end_time": "2024-05-18T16:57:10.391269Z",
     "start_time": "2024-05-18T16:57:08.555792Z"
    }
   },
   "source": [
    "from platoon_functionalities import graph_tools\n",
    "from vissim_handler import vissim_vehicle, vissim_interface, scenario_handling"
   ],
   "outputs": [],
   "execution_count": 1
  },
  {
   "metadata": {
    "ExecuteTime": {
     "end_time": "2024-05-18T16:59:21.288331Z",
     "start_time": "2024-05-18T16:59:08.398421Z"
    }
   },
   "cell_type": "code",
   "source": "vi = vissim_interface.VissimInterface()",
   "outputs": [
    {
     "name": "stdout",
     "output_type": "stream",
     "text": [
      "[Client] Trying to create a Vissim instance\n",
      "[Client] Vissim instance created\n"
     ]
    }
   ],
   "execution_count": 3
  },
  {
   "metadata": {
    "ExecuteTime": {
     "end_time": "2024-05-18T17:01:37.665435Z",
     "start_time": "2024-05-18T17:01:34.247904Z"
    }
   },
   "cell_type": "code",
   "source": [
    "scenario_name = \"platoon_discretionary_lane_change\"\n",
    "vi.load_simulation(scenario_name)"
   ],
   "outputs": [
    {
     "name": "stdout",
     "output_type": "stream",
     "text": [
      "[Client] Loading file\n"
     ]
    },
    {
     "data": {
      "text/plain": [
       "True"
      ]
     },
     "execution_count": 7,
     "metadata": {},
     "output_type": "execute_result"
    }
   ],
   "execution_count": 7
  },
  {
   "metadata": {
    "ExecuteTime": {
     "end_time": "2024-05-18T17:05:36.036743Z",
     "start_time": "2024-05-18T17:05:36.030547Z"
    }
   },
   "cell_type": "code",
   "source": [
    "other_vehicles = [{vissim_vehicle.VehicleType.HDV: 100}]\n",
    "strategies = [vissim_vehicle.PlatoonLaneChangeStrategy.graph_min_time]\n",
    "vehicles_per_lane = [500]\n",
    "orig_and_dest_lane_speeds = [(\"70\", \"50\")]\n",
    "platoon_size = [3]\n",
    "scenarios = scenario_handling.create_multiple_scenarios(other_vehicles, vehicles_per_lane, strategies, orig_and_dest_lane_speeds, platoon_size)"
   ],
   "outputs": [],
   "execution_count": 12
  },
  {
   "metadata": {
    "ExecuteTime": {
     "end_time": "2024-05-18T17:07:48.752589Z",
     "start_time": "2024-05-18T17:05:36.645558Z"
    }
   },
   "cell_type": "code",
   "source": "vi.run_platoon_scenario_sample(scenarios[0], number_of_runs=1, random_seed=7)",
   "outputs": [
    {
     "name": "stdout",
     "output_type": "stream",
     "text": [
      "[Client] setting parameter RandSeed to value 7\n",
      "[Client] setting parameter NumRuns to value 1\n",
      "[Client] Setting verbose_simulation to False\n",
      "[Client] setting parameter SimPeriod to value 600\n",
      "[Client] Setting platoon lane change strategy to 5 (graph_min_time)\n",
      "[Client] Setting platoon_lane_change_strategy to 5\n",
      "[Client] Desired speed distribution of all flows in composition orig_lane set to 70\n",
      "[Client] Desired speed distribution of all flows in composition dest_lane set to 50\n",
      "[Client] Vehicle input left_lane set to 500.0\n",
      "[Client] Vehicle input right_lane set to 500.0\n",
      "[Client] Simulation 1 started\n",
      "Platoons phase...\n",
      "[Client] Creating platoon 1 at time 180.0\n",
      "Simulation done\n"
     ]
    }
   ],
   "execution_count": 13
  },
  {
   "metadata": {},
   "cell_type": "code",
   "outputs": [],
   "execution_count": null,
   "source": ""
  }
 ],
 "metadata": {
  "kernelspec": {
   "display_name": "Python 3",
   "language": "python",
   "name": "python3"
  },
  "language_info": {
   "codemirror_mode": {
    "name": "ipython",
    "version": 2
   },
   "file_extension": ".py",
   "mimetype": "text/x-python",
   "name": "python",
   "nbconvert_exporter": "python",
   "pygments_lexer": "ipython2",
   "version": "2.7.6"
  }
 },
 "nbformat": 4,
 "nbformat_minor": 0
}
