{
 "cells": [
  {
   "cell_type": "code",
   "metadata": {
    "collapsed": true,
    "ExecuteTime": {
     "end_time": "2024-05-17T00:37:02.824730Z",
     "start_time": "2024-05-17T00:37:02.803105Z"
    }
   },
   "source": [
    "from platoon_functionalities import graph_tools\n",
    "from vissim_handler import vissim_vehicle, vissim_interface, scenario_handling"
   ],
   "outputs": [],
   "execution_count": 24
  },
  {
   "metadata": {
    "ExecuteTime": {
     "end_time": "2024-05-17T00:39:41.977904Z",
     "start_time": "2024-05-17T00:39:21.404675Z"
    }
   },
   "cell_type": "code",
   "source": "vi = vissim_interface.VissimInterface()",
   "outputs": [
    {
     "name": "stdout",
     "output_type": "stream",
     "text": [
      "[Client] Trying to create a Vissim instance\n",
      "[Client] Vissim instance created\n"
     ]
    }
   ],
   "execution_count": 25
  },
  {
   "metadata": {
    "ExecuteTime": {
     "end_time": "2024-05-17T00:39:52.079320Z",
     "start_time": "2024-05-17T00:39:46.842388Z"
    }
   },
   "cell_type": "code",
   "source": [
    "scenario_name = \"platoon_discretionary_lane_change\"\n",
    "vi.load_simulation(scenario_name)"
   ],
   "outputs": [
    {
     "name": "stdout",
     "output_type": "stream",
     "text": [
      "[Client] Loading file\n"
     ]
    },
    {
     "data": {
      "text/plain": [
       "True"
      ]
     },
     "execution_count": 26,
     "metadata": {},
     "output_type": "execute_result"
    }
   ],
   "execution_count": 26
  },
  {
   "metadata": {
    "ExecuteTime": {
     "end_time": "2024-05-17T00:41:03.158827Z",
     "start_time": "2024-05-17T00:41:03.154081Z"
    }
   },
   "cell_type": "code",
   "source": [
    "other_vehicles = [{vissim_vehicle.VehicleType.HDV: 100}]\n",
    "strategies = [vissim_vehicle.PlatoonLaneChangeStrategy.graph_min_time,\n",
    "              vissim_vehicle.PlatoonLaneChangeStrategy.last_vehicle_first]\n",
    "vehicles_per_lane = [500]\n",
    "orig_and_dest_lane_speeds = [(\"70\", \"50\")]\n",
    "platoon_size = [3]\n",
    "scenarios = scenario_handling.create_multiple_scenarios(other_vehicles, vehicles_per_lane, strategies, orig_and_dest_lane_speeds, platoon_size)"
   ],
   "outputs": [],
   "execution_count": 29
  },
  {
   "metadata": {
    "ExecuteTime": {
     "end_time": "2024-05-17T00:42:04.132307Z",
     "start_time": "2024-05-17T00:41:04.031532Z"
    }
   },
   "cell_type": "code",
   "source": "vi.run_multiple_platoon_lane_change_scenarios(scenarios)",
   "outputs": [
    {
     "name": "stdout",
     "output_type": "stream",
     "text": [
      "[Client] Setting verbose_simulation to True\n",
      "[Client] Setting logged_vehicle to 0\n",
      "All necessary variables set to be saved.\n",
      "[Client] setting parameter RandSeed to value 7\n",
      "[Client] setting parameter RandSeedIncr to value 1\n",
      "[Client] setting parameter SimPeriod to value 600\n",
      "[Client] setting parameter NumRuns to value 3\n",
      "Starting multiple-scenario run.\n",
      "Scenario (1/2):\n",
      " Vehicles: 100% hdv\n",
      "Input: 500 vehs/lane/hour\n",
      "Platoon LC strat.: graph_min_time\n",
      "Orig lane speed 70. Dest lane speed: 50\n",
      "n_platoon=3\n",
      "[Client] Resetting simulation count...\n",
      "[Client] Setting platoon lane change strategy to 5 (graph_min_time)\n",
      "[Client] Setting platoon_lane_change_strategy to 5\n",
      "[Client] Desired speed distribution of all flows in composition orig_lane set to 70\n",
      "[Client] Desired speed distribution of all flows in composition dest_lane set to 50\n",
      "[Client] Vehicle input left_lane set to 500.0\n",
      "[Client] Vehicle input right_lane set to 500.0\n",
      "Result path it too long. Saving at a temporary location.\n",
      "Starting series of 3 runs\n",
      "[Client] setting parameter SimPeriod to value 600\n",
      "[Client] Setting platoon lane change strategy to 5 (graph_min_time)\n",
      "[Client] Setting platoon_lane_change_strategy to 5\n",
      "[Client] Desired speed distribution of all flows in composition orig_lane set to 70\n",
      "[Client] Desired speed distribution of all flows in composition dest_lane set to 50\n",
      "[Client] Vehicle input left_lane set to 500.0\n",
      "[Client] Vehicle input right_lane set to 500.0\n",
      "[Client] Simulation 1 started\n",
      "Platoons phase...\n",
      "[Client] Creating platoon 1 at time 180.0\n",
      "[Client] Simulation 2 started\n",
      "Platoons phase...\n",
      "[Client] Creating platoon 1 at time 180.0\n",
      "[Client] Simulation 3 started\n",
      "Platoons phase...\n",
      "[Client] Creating platoon 1 at time 180.0\n",
      "Total time: 28.2s to run 3 simulations.\n",
      "Copying result files to their proper location\n",
      "Scenario (2/2):\n",
      " Vehicles: 100% hdv\n",
      "Input: 500 vehs/lane/hour\n",
      "Platoon LC strat.: last_vehicle_first\n",
      "Orig lane speed 70. Dest lane speed: 50\n",
      "n_platoon=3\n",
      "[Client] Resetting simulation count...\n",
      "[Client] Setting platoon lane change strategy to 3 (last_vehicle_first)\n",
      "[Client] Setting platoon_lane_change_strategy to 3\n",
      "[Client] Desired speed distribution of all flows in composition orig_lane set to 70\n",
      "[Client] Desired speed distribution of all flows in composition dest_lane set to 50\n",
      "[Client] Vehicle input left_lane set to 500.0\n",
      "[Client] Vehicle input right_lane set to 500.0\n",
      "Result path it too long. Saving at a temporary location.\n",
      "Starting series of 3 runs\n",
      "[Client] setting parameter SimPeriod to value 600\n",
      "[Client] Setting platoon lane change strategy to 3 (last_vehicle_first)\n",
      "[Client] Setting platoon_lane_change_strategy to 3\n",
      "[Client] Desired speed distribution of all flows in composition orig_lane set to 70\n",
      "[Client] Desired speed distribution of all flows in composition dest_lane set to 50\n",
      "[Client] Vehicle input left_lane set to 500.0\n",
      "[Client] Vehicle input right_lane set to 500.0\n",
      "[Client] Simulation 1 started\n",
      "Platoons phase...\n",
      "[Client] Creating platoon 1 at time 180.0\n",
      "[Client] Simulation 2 started\n",
      "Platoons phase...\n",
      "[Client] Creating platoon 1 at time 180.0\n",
      "[Client] Simulation 3 started\n",
      "Platoons phase...\n",
      "[Client] Creating platoon 1 at time 180.0\n",
      "Total time: 30.4s to run 3 simulations.\n",
      "Copying result files to their proper location\n",
      "Total time: 60.0s to run 6 simulations.\n"
     ]
    }
   ],
   "execution_count": 30
  },
  {
   "metadata": {},
   "cell_type": "code",
   "outputs": [],
   "execution_count": null,
   "source": ""
  }
 ],
 "metadata": {
  "kernelspec": {
   "display_name": "Python 3",
   "language": "python",
   "name": "python3"
  },
  "language_info": {
   "codemirror_mode": {
    "name": "ipython",
    "version": 2
   },
   "file_extension": ".py",
   "mimetype": "text/x-python",
   "name": "python",
   "nbconvert_exporter": "python",
   "pygments_lexer": "ipython2",
   "version": "2.7.6"
  }
 },
 "nbformat": 4,
 "nbformat_minor": 0
}
